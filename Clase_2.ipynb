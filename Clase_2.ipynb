{
  "nbformat": 4,
  "nbformat_minor": 0,
  "metadata": {
    "colab": {
      "provenance": [],
      "authorship_tag": "ABX9TyM44qF2/EmI+Xdk56wFDHq7",
      "include_colab_link": true
    },
    "kernelspec": {
      "name": "python3",
      "display_name": "Python 3"
    },
    "language_info": {
      "name": "python"
    }
  },
  "cells": [
    {
      "cell_type": "markdown",
      "metadata": {
        "id": "view-in-github",
        "colab_type": "text"
      },
      "source": [
        "<a href=\"https://colab.research.google.com/github/PauloP206/Curso-Python/blob/main/Clase_2.ipynb\" target=\"_parent\"><img src=\"https://colab.research.google.com/assets/colab-badge.svg\" alt=\"Open In Colab\"/></a>"
      ]
    },
    {
      "cell_type": "markdown",
      "source": [
        "\n",
        "CONDICIONALES Y FUNCIONES\n",
        "\n",
        "Curso Pytone\n",
        "\n",
        "Unicafam\n",
        "\n",
        "Estudiante: Paulo Castellanos\n",
        "\n",
        "Docente: Nicolas Mojica\n",
        "\n",
        "\n",
        "\n",
        "\n",
        "---\n",
        "\n"
      ],
      "metadata": {
        "id": "DaIkrbg5BMPE"
      }
    },
    {
      "cell_type": "code",
      "execution_count": null,
      "metadata": {
        "id": "Iii-Ce3ABBhn"
      },
      "outputs": [],
      "source": [
        "# OPERADORES DE COMPARACION\n",
        "\n",
        "\"\"\"\n",
        "== igual\n",
        "!= diferente\n",
        "< menor que\n",
        "> mayor que\n",
        "<= menor o igual que\n",
        ">= mayor o igual que\n",
        "\"\"\"\n",
        "\n",
        "\n",
        "\n",
        "\n",
        "\n"
      ]
    },
    {
      "cell_type": "markdown",
      "source": [
        "***generar un programa que determine si una persona es mayor  menor de edad***"
      ],
      "metadata": {
        "id": "mkGY1ir2Ch3D"
      }
    },
    {
      "cell_type": "code",
      "source": [
        "edad=18\n",
        "if edad>=18:\n",
        "  print('es mayopr de edad')\n",
        "else:\n",
        "  print('es menor de edad')\n",
        "\n"
      ],
      "metadata": {
        "colab": {
          "base_uri": "https://localhost:8080/"
        },
        "id": "KAYrFIXrCqcI",
        "outputId": "33951046-1ea7-4598-e98d-a48e3a758d59"
      },
      "execution_count": 1,
      "outputs": [
        {
          "output_type": "stream",
          "name": "stdout",
          "text": [
            "es mayopr de edad\n"
          ]
        }
      ]
    },
    {
      "cell_type": "code",
      "source": [
        "# condicion aninadad\n",
        "\n",
        "nota=85\n",
        "if nota==60:\n",
        "  if nota>=90:\n",
        "    print('calificacion alta')\n",
        "  elif nota>=80:\n",
        "    print('calificacion media')\n",
        "  else:\n",
        "    print('calificacion baja')\n",
        "else:\n",
        "  print('reprobado')"
      ],
      "metadata": {
        "colab": {
          "base_uri": "https://localhost:8080/"
        },
        "id": "Aslywh0TDtmr",
        "outputId": "1e9a56ed-2fcf-45a3-e1c9-7a69595998f2"
      },
      "execution_count": 21,
      "outputs": [
        {
          "output_type": "stream",
          "name": "stdout",
          "text": [
            "reprobado\n"
          ]
        }
      ]
    },
    {
      "cell_type": "code",
      "source": [
        "calificacion=float(input('introdusca su calificacion'))\n",
        "if calificacion>=60:\n",
        "  print('aprobado')\n",
        "else:\n",
        "  print('reprobado')\n"
      ],
      "metadata": {
        "colab": {
          "base_uri": "https://localhost:8080/"
        },
        "id": "0pk0coxWE17g",
        "outputId": "752fd5e1-1fb7-4643-df4c-14fbe4734fa4"
      },
      "execution_count": 22,
      "outputs": [
        {
          "output_type": "stream",
          "name": "stdout",
          "text": [
            "introdusca su calificacion70\n",
            "aprobado\n"
          ]
        }
      ]
    },
    {
      "cell_type": "code",
      "source": [
        "#Escribe un programa que clasifique la edad en diferentes categorías: Niño (0-12 años), Adolescente (13-17 años), Adulto (18-64 años) y Anciano (65 años o más).\n",
        "clasificacion_edades=float(input('introdusca su edad'))\n",
        "if clasificacion_edades<13:\n",
        "  print('niño')\n",
        "elif clasificacion_edades<18:\n",
        "  print('adolecente')\n",
        "elif clasificacion_edades<65:\n",
        "  print('adulto')\n",
        "else:\n",
        "  print('anciano')"
      ],
      "metadata": {
        "colab": {
          "base_uri": "https://localhost:8080/"
        },
        "id": "2xCEqjfFGvrp",
        "outputId": "398d2152-b4c2-49b3-d22b-9f783d1d816c"
      },
      "execution_count": 23,
      "outputs": [
        {
          "output_type": "stream",
          "name": "stdout",
          "text": [
            "introdusca su edad14\n",
            "adolecente\n"
          ]
        }
      ]
    },
    {
      "cell_type": "code",
      "source": [
        "#Escribe un programa que pida al usuario una contraseña y verifique si es correcta. La contraseña correcta es \"secreta123\".\n",
        "\n",
        "contraseña = input('introdusca su contraseña')\n",
        "if contraseña == 'secreta123':\n",
        "  print('correcta')\n",
        "else:\n",
        "  print('incorrecta')\n",
        "\n",
        "\n",
        ""
      ],
      "metadata": {
        "colab": {
          "base_uri": "https://localhost:8080/"
        },
        "id": "-Abun_VwIU5p",
        "outputId": "364c6e89-50ed-4e8a-f1ad-3894dbc551a4"
      },
      "execution_count": 40,
      "outputs": [
        {
          "output_type": "stream",
          "name": "stdout",
          "text": [
            "introdusca su contraseñasecreta123\n",
            "correcta\n"
          ]
        }
      ]
    },
    {
      "cell_type": "code",
      "source": [
        "#Crea un programa que lea dos números y determine cuál es mayor, cuál es menor o si ambos son iguales.\n",
        "\n",
        "Numero1 = float(input('Introduzca el primer número: '))\n",
        "Numero2 = float(input('Introduzca el segundo número: '))\n",
        "\n",
        "if Numero1 > Numero2:\n",
        "    print('El número 1 es mayor.')\n",
        "elif Numero1 == Numero2:\n",
        "    print('Ambos números son iguales.')\n",
        "else:\n",
        "    print('El número 2 es mayor.')"
      ],
      "metadata": {
        "colab": {
          "base_uri": "https://localhost:8080/"
        },
        "id": "VQ5uL4KUKpT-",
        "outputId": "5c8371a0-a6a5-456e-aa74-61c5776328c0"
      },
      "execution_count": 44,
      "outputs": [
        {
          "output_type": "stream",
          "name": "stdout",
          "text": [
            "Introduzca el primer número: 2\n",
            "Introduzca el segundo número: 2\n",
            "Ambos números son iguales.\n"
          ]
        }
      ]
    },
    {
      "cell_type": "markdown",
      "source": [
        "*funciones*\n"
      ],
      "metadata": {
        "id": "3V6x9xxiNKYR"
      }
    },
    {
      "cell_type": "code",
      "source": [
        "# y=mx+b\n",
        "# y=2x+4\n",
        "x=5\n",
        "def recta(x):\n",
        "  return (2*x)+4\n",
        "\n",
        "print(recta(x))\n"
      ],
      "metadata": {
        "colab": {
          "base_uri": "https://localhost:8080/"
        },
        "id": "ScbLjACHNMm_",
        "outputId": "3ccce531-0239-4c99-adb8-50bda450182c"
      },
      "execution_count": 43,
      "outputs": [
        {
          "output_type": "stream",
          "name": "stdout",
          "text": [
            "14\n"
          ]
        }
      ]
    },
    {
      "cell_type": "code",
      "source": [
        "# construir una funcioan que genere la suma de dos numeros\n",
        "\n",
        "def suma(a,b):\n",
        "  return print(a + b)\n",
        "suma(10,20)\n"
      ],
      "metadata": {
        "colab": {
          "base_uri": "https://localhost:8080/"
        },
        "id": "E-Syq2u2OlP1",
        "outputId": "bf92276d-33c6-4ea3-9f13-631a32d48dad"
      },
      "execution_count": 48,
      "outputs": [
        {
          "output_type": "stream",
          "name": "stdout",
          "text": [
            "30\n"
          ]
        }
      ]
    },
    {
      "cell_type": "code",
      "source": [
        "from os import register_at_fork\n",
        "# dada 2 variables a yb cacluar la suma y la resta de esas dos valores\n",
        "\n",
        "def operaciones(a, b):\n",
        "  suma=a+b\n",
        "  resta=a-b\n",
        "  return suma,resta\n",
        "suma,resta=operaciones(1,2)\n",
        "print(f\"suma:{suma},resta:{resta}\")"
      ],
      "metadata": {
        "colab": {
          "base_uri": "https://localhost:8080/"
        },
        "id": "WS6p1V-vPtY6",
        "outputId": "30469695-f65b-4f25-c06e-1590d4c3970c"
      },
      "execution_count": 60,
      "outputs": [
        {
          "output_type": "stream",
          "name": "stdout",
          "text": [
            "suma:3,resta:-1\n"
          ]
        }
      ]
    },
    {
      "cell_type": "code",
      "source": [
        "#funcion que determine si un numero es par o inpar. y que envie un mensaje con el resultado de la valdiacion\n",
        "\n",
        "def determinar(numero):\n",
        "\n",
        "  RTA=numero%2#Modulo\n",
        "  if RTA==1:\n",
        "    print(\"El número digitado es impar\")\n",
        "  else:\n",
        "    print(\"El número digitado es par\")\n",
        "\n",
        "numeros=int(input(\"Digita un número: \"))\n",
        "determinar(numeros)"
      ],
      "metadata": {
        "colab": {
          "base_uri": "https://localhost:8080/"
        },
        "id": "HgkUp3j4RhBD",
        "outputId": "1b6a2e3f-327d-4cc4-d067-e2e375d78ba9"
      },
      "execution_count": 61,
      "outputs": [
        {
          "output_type": "stream",
          "name": "stdout",
          "text": [
            "Digita un número: 16\n",
            "El número digitado es par\n"
          ]
        }
      ]
    },
    {
      "cell_type": "code",
      "source": [],
      "metadata": {
        "id": "ctkazkYWTv8P"
      },
      "execution_count": null,
      "outputs": []
    }
  ]
}