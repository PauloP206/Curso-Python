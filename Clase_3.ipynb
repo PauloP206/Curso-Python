{
  "nbformat": 4,
  "nbformat_minor": 0,
  "metadata": {
    "colab": {
      "provenance": [],
      "authorship_tag": "ABX9TyOBItlfU4qog4b8OqKLtKA5",
      "include_colab_link": true
    },
    "kernelspec": {
      "name": "python3",
      "display_name": "Python 3"
    },
    "language_info": {
      "name": "python"
    }
  },
  "cells": [
    {
      "cell_type": "markdown",
      "metadata": {
        "id": "view-in-github",
        "colab_type": "text"
      },
      "source": [
        "<a href=\"https://colab.research.google.com/github/PauloP206/Curso-Python/blob/main/Clase_3.ipynb\" target=\"_parent\"><img src=\"https://colab.research.google.com/assets/colab-badge.svg\" alt=\"Open In Colab\"/></a>"
      ]
    },
    {
      "cell_type": "markdown",
      "source": [
        "Manejo de errores ciclos y bucles\n",
        "\n",
        "Curso Pytone\n",
        "\n",
        "Unicafam\n",
        "\n",
        "Estudiante: Paulo Castellanos\n",
        "\n",
        "Docente: Nicolas Mojica"
      ],
      "metadata": {
        "id": "D6qEJKwFH_CD"
      }
    },
    {
      "cell_type": "markdown",
      "source": [
        "# **MANEJO DE ERRORES**\n",
        "En Python, el manejo de errores se realiza utilizando el bloque try-except. Este bloque permite capturar y manejar excepciones (errores) que puedan ocurrir durante la ejecución de tu código. Aquí te muestro cómo funciona:\n",
        "\n",
        "\n",
        "**Tipos de Errores:**\n",
        "\n",
        "- SyntaxError: Error de sintaxis en el código.\n",
        "- TypeError: Operación o función aplicada a un tipo inapropiado.\n",
        "- ValueError: Argumento con el tipo correcto pero valor inapropiado.\n",
        "- IndexError: Índice fuera del rango de una lista o secuencia.\n",
        "- KeyError: Clave que no existe en un diccionario.\n",
        "- FileNotFoundError: Archivo no encontrado.\n",
        "- ZeroDivisionError: División por cero.\n",
        "- IOError: Problema de entrada/salida al leer o escribir archivos.\n",
        "- AttributeError: Atributo que no existe en un objeto.\n",
        "- ImportError: Módulo no encontrado al intentar importarlo.\n",
        "- MemoryError: Agotamiento de memoria.\n",
        "- OverflowError: Operación que excede el rango numérico."
      ],
      "metadata": {
        "id": "aVQNkXxXIO6T"
      }
    },
    {
      "cell_type": "code",
      "source": [
        "# devinicion de variables\n",
        "a=int(input('ingresar numero'))\n",
        "b=int(input('ingresar segundo numero'))\n"
      ],
      "metadata": {
        "colab": {
          "base_uri": "https://localhost:8080/"
        },
        "id": "VUfWsk_uNrhP",
        "outputId": "0ae054d5-f132-476f-e157-ea84322afe0e"
      },
      "execution_count": 33,
      "outputs": [
        {
          "name": "stdout",
          "output_type": "stream",
          "text": [
            "ingresar numero0\n",
            "ingresar segundo numero0\n"
          ]
        }
      ]
    },
    {
      "cell_type": "code",
      "source": [
        "from __future__ import division\n",
        "# generar uan funcion que divida dos numeros\n",
        "\n",
        "\n",
        "def division(a, b):\n",
        "  c=a/b\n",
        "  return print(c)\n",
        "division(a,b)"
      ],
      "metadata": {
        "colab": {
          "base_uri": "https://localhost:8080/",
          "height": 297
        },
        "id": "HB_31yWdH79m",
        "outputId": "7e443c0d-cdbc-44c0-e20b-d107456c84fe"
      },
      "execution_count": 34,
      "outputs": [
        {
          "output_type": "error",
          "ename": "ZeroDivisionError",
          "evalue": "division by zero",
          "traceback": [
            "\u001b[0;31m---------------------------------------------------------------------------\u001b[0m",
            "\u001b[0;31mZeroDivisionError\u001b[0m                         Traceback (most recent call last)",
            "\u001b[0;32m<ipython-input-34-9f7609a28a49>\u001b[0m in \u001b[0;36m<cell line: 8>\u001b[0;34m()\u001b[0m\n\u001b[1;32m      6\u001b[0m   \u001b[0mc\u001b[0m\u001b[0;34m=\u001b[0m\u001b[0ma\u001b[0m\u001b[0;34m/\u001b[0m\u001b[0mb\u001b[0m\u001b[0;34m\u001b[0m\u001b[0;34m\u001b[0m\u001b[0m\n\u001b[1;32m      7\u001b[0m   \u001b[0;32mreturn\u001b[0m \u001b[0mprint\u001b[0m\u001b[0;34m(\u001b[0m\u001b[0mc\u001b[0m\u001b[0;34m)\u001b[0m\u001b[0;34m\u001b[0m\u001b[0;34m\u001b[0m\u001b[0m\n\u001b[0;32m----> 8\u001b[0;31m \u001b[0mdivision\u001b[0m\u001b[0;34m(\u001b[0m\u001b[0ma\u001b[0m\u001b[0;34m,\u001b[0m\u001b[0mb\u001b[0m\u001b[0;34m)\u001b[0m\u001b[0;34m\u001b[0m\u001b[0;34m\u001b[0m\u001b[0m\n\u001b[0m",
            "\u001b[0;32m<ipython-input-34-9f7609a28a49>\u001b[0m in \u001b[0;36mdivision\u001b[0;34m(a, b)\u001b[0m\n\u001b[1;32m      4\u001b[0m \u001b[0;34m\u001b[0m\u001b[0m\n\u001b[1;32m      5\u001b[0m \u001b[0;32mdef\u001b[0m \u001b[0mdivision\u001b[0m\u001b[0;34m(\u001b[0m\u001b[0ma\u001b[0m\u001b[0;34m,\u001b[0m \u001b[0mb\u001b[0m\u001b[0;34m)\u001b[0m\u001b[0;34m:\u001b[0m\u001b[0;34m\u001b[0m\u001b[0;34m\u001b[0m\u001b[0m\n\u001b[0;32m----> 6\u001b[0;31m   \u001b[0mc\u001b[0m\u001b[0;34m=\u001b[0m\u001b[0ma\u001b[0m\u001b[0;34m/\u001b[0m\u001b[0mb\u001b[0m\u001b[0;34m\u001b[0m\u001b[0;34m\u001b[0m\u001b[0m\n\u001b[0m\u001b[1;32m      7\u001b[0m   \u001b[0;32mreturn\u001b[0m \u001b[0mprint\u001b[0m\u001b[0;34m(\u001b[0m\u001b[0mc\u001b[0m\u001b[0;34m)\u001b[0m\u001b[0;34m\u001b[0m\u001b[0;34m\u001b[0m\u001b[0m\n\u001b[1;32m      8\u001b[0m \u001b[0mdivision\u001b[0m\u001b[0;34m(\u001b[0m\u001b[0ma\u001b[0m\u001b[0;34m,\u001b[0m\u001b[0mb\u001b[0m\u001b[0;34m)\u001b[0m\u001b[0;34m\u001b[0m\u001b[0;34m\u001b[0m\u001b[0m\n",
            "\u001b[0;31mZeroDivisionError\u001b[0m: division by zero"
          ]
        }
      ]
    },
    {
      "cell_type": "code",
      "source": [
        "#  cuando se divide entre cero\n",
        "# generar uan funcion que divida dos numeros\n",
        "\n",
        "\n",
        "try:\n",
        "  def division(a, b):\n",
        "    c=a/b\n",
        "    return print(c)\n",
        "  division(a,b)\n",
        "except ZeroDivisionError:\n",
        "  print('no se puede dividir por cero')"
      ],
      "metadata": {
        "colab": {
          "base_uri": "https://localhost:8080/"
        },
        "id": "-nMkxrC5KTD3",
        "outputId": "36eb7726-58aa-4ef3-e2a6-30d68c68d002"
      },
      "execution_count": 35,
      "outputs": [
        {
          "output_type": "stream",
          "name": "stdout",
          "text": [
            "no se puede dividir por cero\n"
          ]
        }
      ]
    },
    {
      "cell_type": "code",
      "source": [
        "# mensaje general\n",
        "\n",
        "try:\n",
        "  def division(a, b):\n",
        "    c=a/b\n",
        "    return print(c)\n",
        "  division(a,b)\n",
        "except Exception as e:\n",
        "  print(f'Se produjo una excepcion con el error: {e}')"
      ],
      "metadata": {
        "colab": {
          "base_uri": "https://localhost:8080/"
        },
        "id": "TsDNk89GK2-P",
        "outputId": "312bfd4d-6735-47ea-d728-3286f3367d28"
      },
      "execution_count": 44,
      "outputs": [
        {
          "output_type": "stream",
          "name": "stdout",
          "text": [
            "Se produjo una excepcion con el error: division by zero\n"
          ]
        }
      ]
    },
    {
      "cell_type": "markdown",
      "source": [
        "* ciclos y bucles*"
      ],
      "metadata": {
        "id": "Y_X8gopXROuq"
      }
    },
    {
      "cell_type": "code",
      "source": [
        "# quiero imprimir  todos los nuemro que se encuntran en una lista\n",
        "\n",
        "# basico la sentencia  for es la swentencia que me permite generar un bucle sobre un conjunto de cdatos finitos\n",
        "# como puede uan lista tupla o estrcutura de datos.\n",
        "\n",
        "# =+ compuesta\n",
        "\n",
        "lista=[1,2,3,4,5]\n",
        "\n",
        "for num in lista:\n",
        "  c=num+1\n",
        "  print(c)"
      ],
      "metadata": {
        "colab": {
          "base_uri": "https://localhost:8080/"
        },
        "id": "BGNYHdE7RR4L",
        "outputId": "bbbacd47-cf52-4bed-a1c2-72f6e92701c0"
      },
      "execution_count": 52,
      "outputs": [
        {
          "output_type": "stream",
          "name": "stdout",
          "text": [
            "2\n",
            "3\n",
            "4\n",
            "5\n",
            "6\n"
          ]
        }
      ]
    },
    {
      "cell_type": "code",
      "source": [
        "#  imprima los numeor del 1 al 10\n",
        "\n",
        "for num in range(10):\n",
        "  if num>5:\n",
        "    break\n",
        "  else:\n",
        "    print(num)"
      ],
      "metadata": {
        "colab": {
          "base_uri": "https://localhost:8080/"
        },
        "id": "SPjhrsmhUQFf",
        "outputId": "c7f39182-80b4-4f4f-d50f-1605b62d69b0"
      },
      "execution_count": 55,
      "outputs": [
        {
          "output_type": "stream",
          "name": "stdout",
          "text": [
            "0\n",
            "1\n",
            "2\n",
            "3\n",
            "4\n",
            "5\n"
          ]
        }
      ]
    },
    {
      "cell_type": "code",
      "source": [
        "#  Ejercicio: generar un ciclo  que saque  la exponenciacion por 2 de una lista de 7 numero\n",
        "\n",
        "for num in range(7):\n",
        "    print(num**2)"
      ],
      "metadata": {
        "colab": {
          "base_uri": "https://localhost:8080/"
        },
        "id": "4bSH-Zl-WLcM",
        "outputId": "3a2939a8-357e-4697-ec8c-35b1ee76ccc4"
      },
      "execution_count": 71,
      "outputs": [
        {
          "output_type": "stream",
          "name": "stdout",
          "text": [
            "0\n",
            "1\n",
            "4\n",
            "9\n",
            "16\n",
            "25\n",
            "36\n"
          ]
        }
      ]
    },
    {
      "cell_type": "code",
      "source": [
        "# de una lista de precios  dada carcule un descuento del 10%  y añadalos en una nueva lista\n",
        "\n",
        "\n",
        "precios_actuales=[500,200,300,400]\n",
        "precios_descuento=[]\n",
        "for precio in precios_actuales:\n",
        "  nuevo_precio=precio*0.1\n",
        "  precios_descuento.append(nuevo_precio)\n",
        "\n",
        "print(precios_descuento)"
      ],
      "metadata": {
        "colab": {
          "base_uri": "https://localhost:8080/"
        },
        "id": "J6vy8HSxXgPN",
        "outputId": "bfba74d4-6d8b-4c6e-c91c-0291765a65f3"
      },
      "execution_count": 81,
      "outputs": [
        {
          "output_type": "stream",
          "name": "stdout",
          "text": [
            "[50.0, 20.0, 30.0, 40.0]\n"
          ]
        }
      ]
    },
    {
      "cell_type": "code",
      "source": [
        "# contador\n",
        "\n",
        "contador=0\n",
        "while contador<=5:\n",
        "  print(contador)\n",
        "  contador+=1"
      ],
      "metadata": {
        "colab": {
          "base_uri": "https://localhost:8080/"
        },
        "id": "W0UFiWPPZvsI",
        "outputId": "aab44d7e-fe46-42b1-aa46-8416dda84025"
      },
      "execution_count": 92,
      "outputs": [
        {
          "output_type": "stream",
          "name": "stdout",
          "text": [
            "0\n",
            "1\n",
            "2\n",
            "3\n",
            "4\n",
            "5\n"
          ]
        }
      ]
    },
    {
      "cell_type": "code",
      "source": [
        "# generar un programa que permita 3 intentos de contraseña\n",
        "\n",
        "contrasena_correcta='secreta123'\n",
        "intentos=3\n",
        "\n",
        "while intentos > 0:\n",
        "  contrasena=input('íngrese contraseña:')\n",
        "  if contrasena == contrasena_correcta:\n",
        "    print('acceso conseguido')\n",
        "    break\n",
        "  else:\n",
        "    intentos-=1\n",
        "    print(f'te quedan {intentos-1} intentos')\n",
        "if intentos == 0:\n",
        "  print('has excedido el numero de intentos')\n"
      ],
      "metadata": {
        "colab": {
          "base_uri": "https://localhost:8080/"
        },
        "id": "yisaqOVLa3XB",
        "outputId": "0cd3266e-9eec-49c7-c10d-1e9849779c5a"
      },
      "execution_count": 101,
      "outputs": [
        {
          "output_type": "stream",
          "name": "stdout",
          "text": [
            "íngrese contraseña:1\n",
            "te quedan 1 intentos\n",
            "íngrese contraseña:2\n",
            "te quedan 0 intentos\n",
            "íngrese contraseña:3\n",
            "te quedan -1 intentos\n",
            "has excedido el numero de intentos\n"
          ]
        }
      ]
    },
    {
      "cell_type": "code",
      "source": [
        "# Escribe un programa que permita al usuario adivinar un número secreto entre 1 y 10. El programa debe seguir pidiendo al usuario que adivine hasta que acierte.\n",
        "\n",
        "# **Instrucciones:**\n",
        "\n",
        "#Define un número secreto.\n",
        "\n",
        "# Utiliza un bucle while para seguir solicitando adivinanzas al usuario hasta que acierte.\n",
        "\n",
        "# Si el usuario adivina el número, imprime un mensaje de felicitación y termina el programa.\n",
        "lista=[1,2,3,4,5,6,7,8,9,10]\n",
        "numero_secreto=4\n",
        "\n",
        "while numero_secreto == 4:\n",
        "  numero=int(input('íngrese numero:'))\n",
        "  if numero == numero_secreto:\n",
        "    print('felicitación y termina el programa.')\n",
        "    break\n",
        "  else:\n",
        "    print('sigue intentando')"
      ],
      "metadata": {
        "colab": {
          "base_uri": "https://localhost:8080/",
          "height": 356
        },
        "id": "E_uvKNrVebRD",
        "outputId": "8556ebf4-877b-472f-b18f-ebc4e25bc091"
      },
      "execution_count": 130,
      "outputs": [
        {
          "output_type": "error",
          "ename": "KeyboardInterrupt",
          "evalue": "Interrupted by user",
          "traceback": [
            "\u001b[0;31m---------------------------------------------------------------------------\u001b[0m",
            "\u001b[0;31mKeyboardInterrupt\u001b[0m                         Traceback (most recent call last)",
            "\u001b[0;32m<ipython-input-130-7afa1810b478>\u001b[0m in \u001b[0;36m<cell line: 13>\u001b[0;34m()\u001b[0m\n\u001b[1;32m     12\u001b[0m \u001b[0;34m\u001b[0m\u001b[0m\n\u001b[1;32m     13\u001b[0m \u001b[0;32mwhile\u001b[0m \u001b[0mnumero_secreto\u001b[0m \u001b[0;34m==\u001b[0m \u001b[0;36m4\u001b[0m\u001b[0;34m:\u001b[0m\u001b[0;34m\u001b[0m\u001b[0;34m\u001b[0m\u001b[0m\n\u001b[0;32m---> 14\u001b[0;31m   \u001b[0mnumero\u001b[0m\u001b[0;34m=\u001b[0m\u001b[0mint\u001b[0m\u001b[0;34m(\u001b[0m\u001b[0minput\u001b[0m\u001b[0;34m(\u001b[0m\u001b[0;34m'íngrese numero:'\u001b[0m\u001b[0;34m)\u001b[0m\u001b[0;34m)\u001b[0m\u001b[0;34m\u001b[0m\u001b[0;34m\u001b[0m\u001b[0m\n\u001b[0m\u001b[1;32m     15\u001b[0m   \u001b[0;32mif\u001b[0m \u001b[0mnumero\u001b[0m \u001b[0;34m==\u001b[0m \u001b[0mnumero_secreto\u001b[0m\u001b[0;34m:\u001b[0m\u001b[0;34m\u001b[0m\u001b[0;34m\u001b[0m\u001b[0m\n\u001b[1;32m     16\u001b[0m     \u001b[0mprint\u001b[0m\u001b[0;34m(\u001b[0m\u001b[0;34m'felicitación y termina el programa.'\u001b[0m\u001b[0;34m)\u001b[0m\u001b[0;34m\u001b[0m\u001b[0;34m\u001b[0m\u001b[0m\n",
            "\u001b[0;32m/usr/local/lib/python3.10/dist-packages/ipykernel/kernelbase.py\u001b[0m in \u001b[0;36mraw_input\u001b[0;34m(self, prompt)\u001b[0m\n\u001b[1;32m    849\u001b[0m                 \u001b[0;34m\"raw_input was called, but this frontend does not support input requests.\"\u001b[0m\u001b[0;34m\u001b[0m\u001b[0;34m\u001b[0m\u001b[0m\n\u001b[1;32m    850\u001b[0m             )\n\u001b[0;32m--> 851\u001b[0;31m         return self._input_request(str(prompt),\n\u001b[0m\u001b[1;32m    852\u001b[0m             \u001b[0mself\u001b[0m\u001b[0;34m.\u001b[0m\u001b[0m_parent_ident\u001b[0m\u001b[0;34m,\u001b[0m\u001b[0;34m\u001b[0m\u001b[0;34m\u001b[0m\u001b[0m\n\u001b[1;32m    853\u001b[0m             \u001b[0mself\u001b[0m\u001b[0;34m.\u001b[0m\u001b[0m_parent_header\u001b[0m\u001b[0;34m,\u001b[0m\u001b[0;34m\u001b[0m\u001b[0;34m\u001b[0m\u001b[0m\n",
            "\u001b[0;32m/usr/local/lib/python3.10/dist-packages/ipykernel/kernelbase.py\u001b[0m in \u001b[0;36m_input_request\u001b[0;34m(self, prompt, ident, parent, password)\u001b[0m\n\u001b[1;32m    893\u001b[0m             \u001b[0;32mexcept\u001b[0m \u001b[0mKeyboardInterrupt\u001b[0m\u001b[0;34m:\u001b[0m\u001b[0;34m\u001b[0m\u001b[0;34m\u001b[0m\u001b[0m\n\u001b[1;32m    894\u001b[0m                 \u001b[0;31m# re-raise KeyboardInterrupt, to truncate traceback\u001b[0m\u001b[0;34m\u001b[0m\u001b[0;34m\u001b[0m\u001b[0m\n\u001b[0;32m--> 895\u001b[0;31m                 \u001b[0;32mraise\u001b[0m \u001b[0mKeyboardInterrupt\u001b[0m\u001b[0;34m(\u001b[0m\u001b[0;34m\"Interrupted by user\"\u001b[0m\u001b[0;34m)\u001b[0m \u001b[0;32mfrom\u001b[0m \u001b[0;32mNone\u001b[0m\u001b[0;34m\u001b[0m\u001b[0;34m\u001b[0m\u001b[0m\n\u001b[0m\u001b[1;32m    896\u001b[0m             \u001b[0;32mexcept\u001b[0m \u001b[0mException\u001b[0m \u001b[0;32mas\u001b[0m \u001b[0me\u001b[0m\u001b[0;34m:\u001b[0m\u001b[0;34m\u001b[0m\u001b[0;34m\u001b[0m\u001b[0m\n\u001b[1;32m    897\u001b[0m                 \u001b[0mself\u001b[0m\u001b[0;34m.\u001b[0m\u001b[0mlog\u001b[0m\u001b[0;34m.\u001b[0m\u001b[0mwarning\u001b[0m\u001b[0;34m(\u001b[0m\u001b[0;34m\"Invalid Message:\"\u001b[0m\u001b[0;34m,\u001b[0m \u001b[0mexc_info\u001b[0m\u001b[0;34m=\u001b[0m\u001b[0;32mTrue\u001b[0m\u001b[0;34m)\u001b[0m\u001b[0;34m\u001b[0m\u001b[0;34m\u001b[0m\u001b[0m\n",
            "\u001b[0;31mKeyboardInterrupt\u001b[0m: Interrupted by user"
          ]
        }
      ]
    },
    {
      "cell_type": "code",
      "source": [],
      "metadata": {
        "id": "7Eia9WFHi0Zb"
      },
      "execution_count": null,
      "outputs": []
    },
    {
      "cell_type": "markdown",
      "source": [
        "**Ejercicio 3: Tabla de Multiplicar (Bucle for y while)**\n",
        "\n",
        "**Descripción:**\n",
        "\n",
        "Escribe un programa que genere la tabla de multiplicar de un número ingresado por el usuario. El programa debe continuar pidiendo un número hasta que el usuario ingrese 0.\n",
        "\n",
        "**Instrucciones:**\n",
        "\n",
        "Utiliza un bucle while para pedir un número al usuario.\n",
        "\n",
        "Si el número es diferente de 0, usa un bucle for para imprimir la tabla de multiplicar de ese número.\n",
        "\n",
        "Si el usuario ingresa 0, termina el programa."
      ],
      "metadata": {
        "id": "1veLGM3EjsT-"
      }
    },
    {
      "cell_type": "code",
      "source": [
        "while True:\n",
        "    numero = int(input(\"Ingresa un número): \"))\n",
        "\n",
        "    if numero == 0:\n",
        "        print(\"Programa terminado.\")\n",
        "        break\n",
        "\n",
        "    print(f\"\\nTabla de multiplicar del {numero}:\")\n",
        "    for i in range(1, 11):\n",
        "        print(f\"{numero} x {i} = {numero * i}\")\n",
        "    print()"
      ],
      "metadata": {
        "colab": {
          "base_uri": "https://localhost:8080/"
        },
        "id": "Kr_cAFXVmG07",
        "outputId": "4057b8e4-1840-4afb-de20-0e3f15ebfcdc"
      },
      "execution_count": 131,
      "outputs": [
        {
          "output_type": "stream",
          "name": "stdout",
          "text": [
            "Ingresa un número): 10\n",
            "\n",
            "Tabla de multiplicar del 10:\n",
            "10 x 1 = 10\n",
            "10 x 2 = 20\n",
            "10 x 3 = 30\n",
            "10 x 4 = 40\n",
            "10 x 5 = 50\n",
            "10 x 6 = 60\n",
            "10 x 7 = 70\n",
            "10 x 8 = 80\n",
            "10 x 9 = 90\n",
            "10 x 10 = 100\n",
            "\n",
            "Ingresa un número): 25\n",
            "\n",
            "Tabla de multiplicar del 25:\n",
            "25 x 1 = 25\n",
            "25 x 2 = 50\n",
            "25 x 3 = 75\n",
            "25 x 4 = 100\n",
            "25 x 5 = 125\n",
            "25 x 6 = 150\n",
            "25 x 7 = 175\n",
            "25 x 8 = 200\n",
            "25 x 9 = 225\n",
            "25 x 10 = 250\n",
            "\n",
            "Ingresa un número): 600\n",
            "\n",
            "Tabla de multiplicar del 600:\n",
            "600 x 1 = 600\n",
            "600 x 2 = 1200\n",
            "600 x 3 = 1800\n",
            "600 x 4 = 2400\n",
            "600 x 5 = 3000\n",
            "600 x 6 = 3600\n",
            "600 x 7 = 4200\n",
            "600 x 8 = 4800\n",
            "600 x 9 = 5400\n",
            "600 x 10 = 6000\n",
            "\n",
            "Ingresa un número): 0\n",
            "Programa terminado.\n"
          ]
        }
      ]
    }
  ]
}