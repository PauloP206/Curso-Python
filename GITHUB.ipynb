{
  "nbformat": 4,
  "nbformat_minor": 0,
  "metadata": {
    "colab": {
      "provenance": [],
      "authorship_tag": "ABX9TyOwBSBeu8Xv6u4V8YNB6xnF",
      "include_colab_link": true
    },
    "kernelspec": {
      "name": "python3",
      "display_name": "Python 3"
    },
    "language_info": {
      "name": "python"
    }
  },
  "cells": [
    {
      "cell_type": "markdown",
      "metadata": {
        "id": "view-in-github",
        "colab_type": "text"
      },
      "source": [
        "<a href=\"https://colab.research.google.com/github/PauloP206/Curso-Python/blob/main/GITHUB.ipynb\" target=\"_parent\"><img src=\"https://colab.research.google.com/assets/colab-badge.svg\" alt=\"Open In Colab\"/></a>"
      ]
    },
    {
      "cell_type": "markdown",
      "source": [
        "*INTRODUCCIÓN A PYTHON*\n",
        "\n",
        "Curso Pytone\n",
        "\n",
        "Unicafam\n",
        "\n",
        "Estudiante: Paulo Castellanos\n",
        "\n",
        "Docente: Nicolas Mojica\n",
        "\n",
        "\n",
        "---\n",
        "\n",
        "\n",
        "\n",
        "\n",
        "\n",
        "\n"
      ],
      "metadata": {
        "id": "WuYjOzMsAKb3"
      }
    },
    {
      "cell_type": "code",
      "execution_count": null,
      "metadata": {
        "colab": {
          "base_uri": "https://localhost:8080/"
        },
        "id": "q9X25EVJ7Tkz",
        "outputId": "d39a99cf-3bf3-4856-8311-67ac8be896ac"
      },
      "outputs": [
        {
          "output_type": "stream",
          "name": "stdout",
          "text": [
            "Hola Mundo\n"
          ]
        }
      ],
      "source": [
        "# Para poder hacer un comentario debo usar un numeral (#).\n",
        "\n",
        "print (\"Hola Mundo\")"
      ]
    },
    {
      "cell_type": "markdown",
      "source": [],
      "metadata": {
        "id": "sITQhFUGE-Eh"
      }
    },
    {
      "cell_type": "code",
      "source": [
        "#para incertar comentario de ams  de dos lineas se usa tres comillas (\"\"\"\")\n",
        "\"\"\"\n",
        "este es\n",
        "un comentario\n",
        "de varias lineas\n",
        "\"\"\"\n",
        "print (\"Hola Mundo\")"
      ],
      "metadata": {
        "colab": {
          "base_uri": "https://localhost:8080/"
        },
        "id": "VmNAqK8gEXD5",
        "outputId": "4e2989b8-bd51-45ca-8dfa-623540f0d819"
      },
      "execution_count": null,
      "outputs": [
        {
          "output_type": "stream",
          "name": "stdout",
          "text": [
            "Hola Mundo\n"
          ]
        }
      ]
    },
    {
      "cell_type": "markdown",
      "source": [
        "*VARIABLES*"
      ],
      "metadata": {
        "id": "UI4hQbqJFFgc"
      }
    },
    {
      "cell_type": "code",
      "source": [
        "#uNA VARIABE SOLO SE DEBE NOMBRAR SI9N CARACTERES ESPECIALES,SAIN ESPACIOS,  PREFERIBLEMENET EN MINUSCULA.\n",
        "var=\"Hola Mundo\"\n",
        "print(var)\n"
      ],
      "metadata": {
        "colab": {
          "base_uri": "https://localhost:8080/"
        },
        "id": "aERQerYEFSaK",
        "outputId": "847e4150-64e0-4250-91a1-9f5393ac2579"
      },
      "execution_count": null,
      "outputs": [
        {
          "output_type": "stream",
          "name": "stdout",
          "text": [
            "Hola Mundo\n"
          ]
        }
      ]
    },
    {
      "cell_type": "code",
      "source": [],
      "metadata": {
        "id": "GtHx8yzKGIcA"
      },
      "execution_count": null,
      "outputs": []
    },
    {
      "cell_type": "markdown",
      "source": [
        "*TIPOS DE DATOS*"
      ],
      "metadata": {
        "id": "hRJXJHM_G8Kb"
      }
    },
    {
      "cell_type": "code",
      "source": [
        "entero = 42"
      ],
      "metadata": {
        "id": "1Xospms_HA0-"
      },
      "execution_count": null,
      "outputs": []
    },
    {
      "cell_type": "code",
      "source": [
        "flotante = 3.14159"
      ],
      "metadata": {
        "id": "qD8MYdNwHaiT"
      },
      "execution_count": null,
      "outputs": []
    },
    {
      "cell_type": "code",
      "source": [
        "#Conversion de tipos de datos\n",
        "\n",
        "entero = int(3.14169) # la respuesta es 3\n",
        "flotante = float (5) # la respuesta 5.0\n"
      ],
      "metadata": {
        "id": "YKBeTK4uHe54"
      },
      "execution_count": null,
      "outputs": []
    },
    {
      "cell_type": "markdown",
      "source": [
        "*OPERADORES MATEMATICOS*\n"
      ],
      "metadata": {
        "id": "iL5bs8EJ7N6v"
      }
    },
    {
      "cell_type": "code",
      "source": [
        "\n",
        "a=2\n",
        "b=4\n",
        "\n",
        "\n",
        "# Suma\n",
        "\n",
        "print (a+b) # resultado 6\n",
        "\n",
        "# resta\n",
        "print(b-a) # resultado 2\n",
        "\n",
        "# divicion\n",
        "c=b/a\n",
        "print(c) # respuesta 2\n",
        "\n",
        "\n",
        "# divicion entera (no deja reciduos)\n",
        "\n",
        "d=3\n",
        "print (d//a)\n",
        "\n",
        "\n",
        "# exponenciacion\n",
        "\n",
        "print(a**5)\n",
        "\n",
        "# modulo (reciduo que esta en una divicion)\n",
        "\n",
        "print (b%a)\n",
        "\n",
        "print(d%a)\n",
        "\n",
        "# asignacion compuestas ( ciclos bucles)\n",
        "a+=b\n",
        "print(a)\n",
        "a=2\n",
        "\n",
        "# Redondeo\n",
        "e=3.14159\n",
        "\n",
        "print(round(e,2))\n",
        "\n",
        "# varol absoluto  sd eutiliza ABS\n",
        "f=a-b\n",
        "\n",
        "print(abs(f))\n",
        "\n",
        "#cadenas de texto y elementos de texto\n",
        "\n",
        "\n",
        "\n",
        "\n"
      ],
      "metadata": {
        "colab": {
          "base_uri": "https://localhost:8080/"
        },
        "id": "2c_EYcjf7aO2",
        "outputId": "788297de-7b3a-4e62-a6de-ddd655f42e9a"
      },
      "execution_count": null,
      "outputs": [
        {
          "output_type": "stream",
          "name": "stdout",
          "text": [
            "6\n",
            "2\n",
            "2.0\n",
            "1\n",
            "32\n",
            "0\n",
            "1\n",
            "6\n",
            "3.14\n",
            "2\n"
          ]
        }
      ]
    },
    {
      "cell_type": "markdown",
      "source": [
        "*TEXTO VALORES STREAM*\n",
        "CADENAS DE TEXTO"
      ],
      "metadata": {
        "id": "XWoiB1ps_kmb"
      }
    },
    {
      "cell_type": "code",
      "source": [
        "# CONCATENACION DE LOS CARACTERES\n",
        "\n",
        "saludo = 'hola'\n",
        "nombre = 'mundo'\n",
        "mensaje = saludo+\" , \"+nombre\n",
        "print(mensaje)\n",
        "\n",
        "\n",
        "# repeticion de caracteres\n",
        "\n",
        "repetido= saludo*3\n",
        "print(repetido)\n",
        "\n",
        "# indexsacion\n",
        "#obtener una variable que tenga el primer caracter  de la variable saludo\n",
        "\n",
        "primer_caracter = saludo[0]\n",
        "print(primer_caracter)\n",
        "\n",
        "#genere una nueva variable que estraiga la palabra hola\n",
        "\n",
        "subcadena = mensaje[0:4]\n",
        "print(subcadena)\n",
        "\n",
        "\n"
      ],
      "metadata": {
        "colab": {
          "base_uri": "https://localhost:8080/"
        },
        "id": "Slos_6m4_sfK",
        "outputId": "461f16ba-80c8-44cb-d9f9-7707c6b04187"
      },
      "execution_count": null,
      "outputs": [
        {
          "output_type": "stream",
          "name": "stdout",
          "text": [
            "hola , mundo\n",
            "holaholahola\n",
            "h\n",
            "hola\n"
          ]
        }
      ]
    },
    {
      "cell_type": "markdown",
      "source": [
        "*METODOS DE CADENAS*"
      ],
      "metadata": {
        "id": "oGQw__FPCLjX"
      }
    },
    {
      "cell_type": "code",
      "source": [
        "# mayusculas\n",
        "\n",
        "cadena = 'Python es genial'\n",
        "print(cadena.upper())\n",
        "\n",
        "# minuscula\n",
        "\n",
        "print(cadena.lower())\n",
        "\n",
        "#remplazo\n",
        "print(cadena.replace('genial','increible'))\n",
        "\n",
        "#ceparar al cadena (ceparar)\n",
        "print(cadena.split(' '))\n",
        "\n",
        "print(cadena[0])\n",
        "\n",
        "cadena_separado = cadena.split(' ')\n",
        "print(cadena_separado[0])\n"
      ],
      "metadata": {
        "colab": {
          "base_uri": "https://localhost:8080/"
        },
        "id": "HBIGe_u2CN9X",
        "outputId": "6afb5198-db83-4e2b-fe80-ffa7fad7d18b"
      },
      "execution_count": null,
      "outputs": [
        {
          "output_type": "stream",
          "name": "stdout",
          "text": [
            "PYTHON ES GENIAL\n",
            "python es genial\n",
            "Python es increible\n",
            "['Python', 'es', 'genial']\n",
            "P\n",
            "Python\n"
          ]
        }
      ]
    },
    {
      "cell_type": "markdown",
      "source": [
        "*ESTRUCTURAS DE DATOS*"
      ],
      "metadata": {
        "id": "1dclPuo6E0WC"
      }
    },
    {
      "cell_type": "code",
      "source": [
        "# listas son las estructuras de python mas usasdas por su flexibilidad y fasilidad e uso\n",
        "lista = [1, 2, 3, \"cuatro\", 5.0]\n",
        "print(lista)\n",
        "\n",
        " # modificar elementos de la lista\n",
        "\n",
        "lista[3]=4\n",
        "print(lista)\n",
        "\n",
        "#como inserto elemntos en una lista (insertar elementos)\n",
        "# con uan posicion determinada\n",
        "#insertarn elementos\n",
        "\n",
        "lista.insert(3,3.3)\n",
        "\n",
        "print(lista)\n",
        "\n",
        "\n",
        "# remover de uan lista\n",
        "lista.remove(5.0)\n",
        "print(lista)"
      ],
      "metadata": {
        "colab": {
          "base_uri": "https://localhost:8080/"
        },
        "id": "fXSgRwu2Ecyl",
        "outputId": "a4d2f4bd-ab78-4370-da60-85434f53be9f"
      },
      "execution_count": null,
      "outputs": [
        {
          "output_type": "stream",
          "name": "stdout",
          "text": [
            "[1, 2, 3, 'cuatro', 5.0]\n",
            "[1, 2, 3, 4, 5.0]\n",
            "[1, 2, 3, 3.3, 4, 5.0]\n",
            "[1, 2, 3, 3.3, 4]\n"
          ]
        }
      ]
    },
    {
      "cell_type": "markdown",
      "source": [
        "*Clase 3 -  20 de noviemrbe de 2024*"
      ],
      "metadata": {
        "id": "cES-zwgj813V"
      }
    },
    {
      "cell_type": "markdown",
      "source": [
        "*Diccionario de datos*\n",
        "\n",
        "\n",
        "\n",
        "\n"
      ],
      "metadata": {
        "id": "UcFCYaFNJi_m"
      }
    },
    {
      "cell_type": "code",
      "source": [
        "#los direccionario se identifica con el inicio y cierre de {} (llaves),  y al variable contenida dentro de la etiqueta de la variable\n",
        "\n",
        "mi_diccionario={\n",
        "    'nombre':'paulo',\n",
        "    'edad':'32',\n",
        "    'ciudad':'bogota'\n",
        "}\n",
        "\n",
        "# llamar la variable nombre\n",
        "\n",
        "print(mi_diccionario ['nombre'])\n",
        "\n",
        "# Modificacion de diccionarios\n",
        "\n",
        "mi_diccionario ['nombre'] = 'priyenko'\n",
        "\n",
        "print(mi_diccionario ['nombre'])\n",
        "\n",
        "print(mi_diccionario )\n",
        "\n",
        "# añadir elemento ene l diccionario\n",
        "\n",
        "mi_diccionario['profecion']='ingeniero industrail'\n",
        "\n",
        "print(mi_diccionario )"
      ],
      "metadata": {
        "id": "lafYDrmfJsoe",
        "colab": {
          "base_uri": "https://localhost:8080/"
        },
        "outputId": "20346d2a-9458-46aa-f5b8-39423d15c7e3"
      },
      "execution_count": 9,
      "outputs": [
        {
          "output_type": "stream",
          "name": "stdout",
          "text": [
            "paulo\n",
            "priyenko\n",
            "{'nombre': 'priyenko', 'edad': '32', 'ciudad': 'bogota'}\n",
            "{'nombre': 'priyenko', 'edad': '32', 'ciudad': 'bogota', 'profecion': 'ingeniero industrail'}\n"
          ]
        }
      ]
    },
    {
      "cell_type": "markdown",
      "source": [],
      "metadata": {
        "id": "FsFIMy1DA69s"
      }
    },
    {
      "cell_type": "code",
      "source": [],
      "metadata": {
        "id": "zejg5KXVAXxt"
      },
      "execution_count": null,
      "outputs": []
    }
  ]
}