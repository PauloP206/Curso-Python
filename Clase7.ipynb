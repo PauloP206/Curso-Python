{
  "nbformat": 4,
  "nbformat_minor": 0,
  "metadata": {
    "colab": {
      "provenance": [],
      "authorship_tag": "ABX9TyOmd9F8NLcGhpt3qzaQM8VF",
      "include_colab_link": true
    },
    "kernelspec": {
      "name": "python3",
      "display_name": "Python 3"
    },
    "language_info": {
      "name": "python"
    }
  },
  "cells": [
    {
      "cell_type": "markdown",
      "metadata": {
        "id": "view-in-github",
        "colab_type": "text"
      },
      "source": [
        "<a href=\"https://colab.research.google.com/github/PauloP206/Curso-Python/blob/main/Clase7.ipynb\" target=\"_parent\"><img src=\"https://colab.research.google.com/assets/colab-badge.svg\" alt=\"Open In Colab\"/></a>"
      ]
    },
    {
      "cell_type": "markdown",
      "source": [
        "*closter*\n",
        "\n",
        "Curso Pytone\n",
        "\n",
        "Unicafam\n",
        "\n",
        "Estudiante: Paulo Castellanos\n",
        "\n",
        "Docente: Nicolas Mojica\n",
        "\n",
        "\n",
        "\n"
      ],
      "metadata": {
        "id": "_hg2hVm6XRm5"
      }
    },
    {
      "cell_type": "code",
      "execution_count": null,
      "metadata": {
        "id": "7GNQ90JjXNaZ"
      },
      "outputs": [],
      "source": []
    }
  ]
}