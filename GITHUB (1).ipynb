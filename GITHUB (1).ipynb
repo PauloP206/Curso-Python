{
  "nbformat": 4,
  "nbformat_minor": 0,
  "metadata": {
    "colab": {
      "provenance": []
    },
    "kernelspec": {
      "name": "python3",
      "display_name": "Python 3"
    },
    "language_info": {
      "name": "python"
    }
  },
  "cells": [
    {
      "cell_type": "markdown",
      "source": [
        "*INTRODUCCIÓN A PYTHON*\n",
        "\n",
        "Curso Pytone\n",
        "\n",
        "Unicafam\n",
        "\n",
        "Estudiante: Paulo Castellanos\n",
        "\n",
        "Docente: Nicolas Mojica\n",
        "\n",
        "\n",
        "---\n",
        "\n",
        "\n",
        "\n",
        "\n",
        "\n",
        "\n"
      ],
      "metadata": {
        "id": "WuYjOzMsAKb3"
      }
    },
    {
      "cell_type": "code",
      "execution_count": 1,
      "metadata": {
        "colab": {
          "base_uri": "https://localhost:8080/",
          "height": 0
        },
        "id": "q9X25EVJ7Tkz",
        "outputId": "d39a99cf-3bf3-4856-8311-67ac8be896ac"
      },
      "outputs": [
        {
          "output_type": "stream",
          "name": "stdout",
          "text": [
            "Hola Mundo\n"
          ]
        }
      ],
      "source": [
        "# Para poder hacer un comentario debo usar un numeral (#).\n",
        "\n",
        "print (\"Hola Mundo\")"
      ]
    },
    {
      "cell_type": "markdown",
      "source": [],
      "metadata": {
        "id": "sITQhFUGE-Eh"
      }
    },
    {
      "cell_type": "code",
      "source": [
        "#para incertar comentario de ams  de dos lineas se usa tres comillas (\"\"\"\")\n",
        "\"\"\"\n",
        "este es\n",
        "un comentario\n",
        "de varias lineas\n",
        "\"\"\"\n",
        "print (\"Hola Mundo\")"
      ],
      "metadata": {
        "colab": {
          "base_uri": "https://localhost:8080/",
          "height": 0
        },
        "id": "VmNAqK8gEXD5",
        "outputId": "4e2989b8-bd51-45ca-8dfa-623540f0d819"
      },
      "execution_count": 3,
      "outputs": [
        {
          "output_type": "stream",
          "name": "stdout",
          "text": [
            "Hola Mundo\n"
          ]
        }
      ]
    },
    {
      "cell_type": "markdown",
      "source": [
        "*VARIABLES*"
      ],
      "metadata": {
        "id": "UI4hQbqJFFgc"
      }
    },
    {
      "cell_type": "code",
      "source": [
        "#uNA VARIABE SOLO SE DEBE NOMBRAR SI9N CARACTERES ESPECIALES,SAIN ESPACIOS,  PREFERIBLEMENET EN MINUSCULA.\n",
        "var=\"Hola Mundo\"\n",
        "print(var)\n"
      ],
      "metadata": {
        "colab": {
          "base_uri": "https://localhost:8080/",
          "height": 0
        },
        "id": "aERQerYEFSaK",
        "outputId": "847e4150-64e0-4250-91a1-9f5393ac2579"
      },
      "execution_count": 20,
      "outputs": [
        {
          "output_type": "stream",
          "name": "stdout",
          "text": [
            "Hola Mundo\n"
          ]
        }
      ]
    },
    {
      "cell_type": "code",
      "source": [],
      "metadata": {
        "id": "GtHx8yzKGIcA"
      },
      "execution_count": null,
      "outputs": []
    },
    {
      "cell_type": "markdown",
      "source": [
        "*TIPOS DE DATOS*"
      ],
      "metadata": {
        "id": "hRJXJHM_G8Kb"
      }
    },
    {
      "cell_type": "code",
      "source": [
        "entero = 42"
      ],
      "metadata": {
        "id": "1Xospms_HA0-"
      },
      "execution_count": 25,
      "outputs": []
    },
    {
      "cell_type": "code",
      "source": [
        "flotante = 3.14159"
      ],
      "metadata": {
        "id": "qD8MYdNwHaiT"
      },
      "execution_count": 26,
      "outputs": []
    },
    {
      "cell_type": "code",
      "source": [
        "#Conversion de tipos de datos\n",
        "\n",
        "entero = int(3.14169) # la respuesta es 3\n",
        "flotante = float (5) # la respuesta 5.0\n"
      ],
      "metadata": {
        "id": "YKBeTK4uHe54"
      },
      "execution_count": 27,
      "outputs": []
    }
  ]
}